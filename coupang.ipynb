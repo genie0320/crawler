{
 "cells": [
  {
   "cell_type": "code",
   "execution_count": 16,
   "metadata": {},
   "outputs": [],
   "source": [
    "from bs4 import BeautifulSoup\n",
    "import requests\n",
    "import time\n",
    "import random\n",
    "\n",
    "def go_to_page(url, head_info): \n",
    "    # random_sec = random.uniform(3,10)\n",
    "    # time.sleep(random_sec)\n",
    "    URL = url\n",
    "    HEADERS = head_info\n",
    "    response = requests.get(URL, timeout=5, headers=HEADERS)\n",
    "    soup = BeautifulSoup(response.content, \"html.parser\", from_encoding='utf-8')\n",
    "    return [response.status_code, URL, soup]"
   ]
  },
  {
   "cell_type": "code",
   "execution_count": 17,
   "metadata": {},
   "outputs": [
    {
     "name": "stdout",
     "output_type": "stream",
     "text": [
      "200 https://www.coupang.com/np/search?component=&q=웹기획\n",
      "<h1><a data-log-props='{ \"id\": \"coupang_logo\" }' href=\"/\" title=\"Coupang - 내가 잘사는 이유\"><img alt=\"쿠팡로고\" height=\"41\" src=\"//image7.coupangcdn.com/image/coupang/common/logo_coupang_w350.png\" width=\"174\"/></a></h1>\n"
     ]
    }
   ],
   "source": [
    "keyword = '웹기획'\n",
    "start_url = f\"https://www.coupang.com/np/search?component=&q={keyword}\"\n",
    "root_url = 'https://www.coupang.com/' \n",
    "headers = {\n",
    "    'User-Agent' : 'Mozilla/5.0 (Windows NT 10.0; Win64; x64) AppleWebKit/537.36 (KHTML, like Gecko) Chrome/120.0.0.0 Safari/537.36',\n",
    "    'Accept-Language': 'ko-KR,ko;q=0.9,en-US;q=0.8,en;q=0.7',\n",
    "    'Accept': 'text/html,application/xhtml+xml,application/xml;q=0.9,image/avif,image/webp,image/apng,*/*;q=0.8,application/signed-exchange;v=b3;q=0.7'\n",
    "}\n",
    "soup_pot = go_to_page(start_url, headers)\n",
    "\n",
    "print(soup_pot[0], soup_pot[1])\n",
    "print(soup_pot[2].h1)\n",
    "soup = soup_pot[2]"
   ]
  },
  {
   "cell_type": "code",
   "execution_count": 18,
   "metadata": {},
   "outputs": [
    {
     "name": "stdout",
     "output_type": "stream",
     "text": [
      "['https://www.coupang.com//vp/products/10644089?itemId=46155753&vendorItemId=3072039921', 'https://www.coupang.com//vp/products/1704471871?itemId=2900593144&vendorItemId=70889556612', 'https://www.coupang.com//vp/products/5456310359?itemId=8340687366&vendorItemId=75628491161&sourceType=srp_product_ads&clickEventId=3a6bc190-b6cf-11ee-b75c-08bb8d7e82f8&korePlacement=15&koreSubPlacement=3&clickEventId=3a6bc190-b6cf-11ee-b75c-08bb8d7e82f8&korePlacement=15&koreSubPlacement=3']\n"
     ]
    }
   ],
   "source": [
    "best_product = soup.find_all(class_='search-product-link', limit=3)\n",
    "product_url = []\n",
    "\n",
    "for prod in best_product:\n",
    "    url = prod['href'] \n",
    "    # span_ = book.find_all('span')\n",
    "    # title = span_[1].text\n",
    "    product_url.append(f'https://www.coupang.com/{url}')\n",
    "\n",
    "print(product_url)"
   ]
  },
  {
   "cell_type": "code",
   "execution_count": 19,
   "metadata": {},
   "outputs": [
    {
     "name": "stdout",
     "output_type": "stream",
     "text": [
      "처음부터 다시 배우는 웹 기획:팀장도 알려주지 않는 기획의 노하우 \n",
      "25,200원\n",
      "\n",
      "***************************\n",
      "현업 기획자 도그냥이 알려주는 서비스 기획 스쿨:사수 없이 시작하는 웹/앱 프로덕트 실전 입문서 \n",
      "20,700원\n",
      "\n",
      "***************************\n",
      "누구나 쉽게 배우는 네이버 모두 무료 홈페이지 제작 만들기 USB 보고 듣고 클릭하면서 배우자 교육 강좌 강의 \n",
      "32,800원\n",
      "\n",
      "***************************\n"
     ]
    }
   ],
   "source": [
    "for url in product_url:\n",
    "    itm_ = go_to_page(url, headers)\n",
    "    # content_ = itm_[2].find_all(class_='book_contents_item')\n",
    "    prod_info = itm_[2]\n",
    "    prod_title = prod_info.select_one('.prod-buy-header__title').text\n",
    "    prod_price = prod_info.select_one('.total-price').text\n",
    "\n",
    "    print(prod_title, prod_price)\n",
    "    print('***************************')"
   ]
  }
 ],
 "metadata": {
  "kernelspec": {
   "display_name": "genv",
   "language": "python",
   "name": "python3"
  },
  "language_info": {
   "codemirror_mode": {
    "name": "ipython",
    "version": 3
   },
   "file_extension": ".py",
   "mimetype": "text/x-python",
   "name": "python",
   "nbconvert_exporter": "python",
   "pygments_lexer": "ipython3",
   "version": "3.12.1"
  }
 },
 "nbformat": 4,
 "nbformat_minor": 2
}
