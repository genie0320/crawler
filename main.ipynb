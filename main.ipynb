{
 "cells": [
  {
   "cell_type": "code",
   "execution_count": null,
   "metadata": {},
   "outputs": [],
   "source": [
    "from bs4 import BeautifulSoup\n",
    "import requests"
   ]
  },
  {
   "cell_type": "code",
   "execution_count": null,
   "metadata": {},
   "outputs": [],
   "source": [
    "from bs4 import BeautifulSoup\n",
    "import requests"
   ]
  },
  {
   "cell_type": "code",
   "execution_count": null,
   "metadata": {},
   "outputs": [],
   "source": [
    "keyword = '웹기획'\n",
    "\n",
    "URL = f\"https://search.kyobobook.co.kr/search?keyword={keyword}&gbCode=TOT&target=total\"\n",
    "response = requests.get(URL)\n",
    "# soup = BeautifulSoup(response.content, \"html.parser\", from_encoding='cp949')\n",
    "soup = BeautifulSoup(response.content, \"html.parser\", from_encoding='utf-8')\n",
    "\n",
    "# 다음과 같이 짤 수도 있지만 status code 확인이 안된다.\n",
    "# response = requests.get(URL).text #Get only text so that save data volume.\n",
    "# soup = BeautifulSoup(response, \"html.parser\")\n",
    "\n",
    "# 요청이 성공했는지 확인하기 위해 상태 코드를 출력할 수 있습니다\n",
    "print(response.status_code)"
   ]
  },
  {
   "cell_type": "code",
   "execution_count": 16,
   "metadata": {},
   "outputs": [
    {
     "name": "stdout",
     "output_type": "stream",
     "text": [
      "3\n",
      "['https://product.kyobobook.co.kr/detail/S000211836242', 'https://product.kyobobook.co.kr/detail/S000001057717', 'https://ebook-product.kyobobook.co.kr/dig/epd/ebook/E000002977836']\n",
      "['Do it! 웹 사이트 기획 입문', '처음부터 다시 배우는 웹 기획', 'Do it! 웹 사이트 기획 입문']\n"
     ]
    }
   ],
   "source": [
    "# 페이지에서 첫 번째 h1 태그 찾기\n",
    "# h1_tag = soup.find(\"h1\")  \n",
    "# print(h1_tag.text)  # h1 태그 내부의 텍스트 출력\n",
    "\n",
    "# [!TODO] Rewrite with 'select'\n",
    "# [!TODO] 저자정보도 필요.\n",
    "# [!TODO] book 객체를 만들어서 정보보관.\n",
    "books_best = soup.find_all(class_='prod_info', limit=3)\n",
    "books_url = [book['href'] for book in books_best]\n",
    "books_title = [book.find_all('span')[1].text.strip() for book in books_best]\n",
    "book_table =[]\n",
    "\n",
    "print(len(books_best))  # h1 태그 내부의 텍스트 출력\n",
    "# print(books_best)  # h1 태그 내부의 텍스트 출력\n",
    "print(books_url)\n",
    "print(books_title)"
   ]
  },
  {
   "cell_type": "code",
   "execution_count": 24,
   "metadata": {},
   "outputs": [
    {
     "name": "stdout",
     "output_type": "stream",
     "text": [
      "table: \n",
      "table: \n",
      "table: \n"
     ]
    }
   ],
   "source": [
    "for book_url in books_url:\n",
    "    URL = book_url\n",
    "    response = requests.get(URL)\n",
    "    temp = BeautifulSoup(response.content, \"html.parser\", from_encoding='utf-8')\n",
    "    # book_contents_item\n",
    "    print(f\"table: {temp}\")\n",
    "# print(book_table)\n",
    "\n",
    "# print(book_table)"
   ]
  }
 ],
 "metadata": {
  "kernelspec": {
   "display_name": "genv",
   "language": "python",
   "name": "python3"
  },
  "language_info": {
   "codemirror_mode": {
    "name": "ipython",
    "version": 3
   },
   "file_extension": ".py",
   "mimetype": "text/x-python",
   "name": "python",
   "nbconvert_exporter": "python",
   "pygments_lexer": "ipython3",
   "version": "3.12.1"
  }
 },
 "nbformat": 4,
 "nbformat_minor": 2
}
