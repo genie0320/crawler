{
 "cells": [
  {
   "cell_type": "code",
   "execution_count": null,
   "metadata": {},
   "outputs": [],
   "source": [
    "from bs4 import BeautifulSoup\n",
    "import requests\n",
    "from selenium import webdriver\n",
    "import time\n",
    "import random\n",
    "\n",
    "def go_to_page(url, head_info): #by requests\n",
    "    URL = url\n",
    "    HEADERS = head_info\n",
    "    response = requests.get(URL, timeout=5, headers=HEADERS)\n",
    "    soup = BeautifulSoup(response.content, \"html.parser\", from_encoding='utf-8')\n",
    "    return [response.status_code, URL, soup, f'type: {type(soup)}']\n",
    "\n",
    "def get_page_html(url): # by selenium\n",
    "    pass\n",
    "    return 'selenium'"
   ]
  },
  {
   "cell_type": "code",
   "execution_count": null,
   "metadata": {},
   "outputs": [],
   "source": [
    "keyword = ''\n",
    "start_url = f\"https://search.kyobobook.co.kr/search?keyword={keyword}&gbCode=TOT&target=total\"\n",
    "root_url = '' \n",
    "headers = {\n",
    "    'User-Agent' : 'Mozilla/5.0 (Windows NT 10.0; Win64; x64) AppleWebKit/537.36 (KHTML, like Gecko) Chrome/120.0.0.0 Safari/537.36',\n",
    "}\n",
    "soup_pot = go_to_page(start_url, headers)\n",
    "\n",
    "print(soup_pot[0], soup_pot[1])\n",
    "print(soup_pot[2].h1)\n",
    "\n",
    "soup = soup_pot[2]"
   ]
  },
  {
   "cell_type": "code",
   "execution_count": null,
   "metadata": {},
   "outputs": [],
   "source": [
    "best_books = soup.find_all(class_='prod_info', limit=3)\n",
    "books_url = []\n",
    "\n",
    "for book in best_books:\n",
    "    url = book['href'] \n",
    "    # span_ = book.find_all('span')\n",
    "    # title = span_[1].text\n",
    "    books_url.append(url)\n",
    "\n",
    "print(books_url)"
   ]
  },
  {
   "cell_type": "code",
   "execution_count": null,
   "metadata": {},
   "outputs": [],
   "source": [
    "# 이 부분은 셀레니움을 적용하고 나서 해야 할 듯. 이유가 뭔지... 못 불러옴.\n",
    "# for url in books_url:\n",
    "#     itm_ = go_to_page(url, headers)\n",
    "\n",
    "content = go_to_page(books_url[2], headers)\n",
    "table_tag = content[2].find_all(class_='book_contents_list')\n",
    "tt_ = str(table_tag[0])\n",
    "content_table = tt_.split('<br/>')\n",
    "cleand_content = list(filter(lambda x: x.strip(), content_table))\n",
    "print(cleand_content)\n"
   ]
  }
 ],
 "metadata": {
  "kernelspec": {
   "display_name": "genv",
   "language": "python",
   "name": "python3"
  },
  "language_info": {
   "codemirror_mode": {
    "name": "ipython",
    "version": 3
   },
   "file_extension": ".py",
   "mimetype": "text/x-python",
   "name": "python",
   "nbconvert_exporter": "python",
   "pygments_lexer": "ipython3",
   "version": "3.12.1"
  }
 },
 "nbformat": 4,
 "nbformat_minor": 2
}
