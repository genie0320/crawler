{
 "cells": [
  {
   "cell_type": "code",
   "execution_count": null,
   "metadata": {},
   "outputs": [],
   "source": [
    "from bs4 import BeautifulSoup\n",
    "import requests\n",
    "import time\n",
    "import random\n",
    "\n",
    "def go_to_page(url, head_info): \n",
    "    # random_sec = random.uniform(3,10)\n",
    "    # time.sleep(random_sec)\n",
    "    URL = url\n",
    "    HEADERS = head_info\n",
    "    response = requests.get(URL, timeout=5, headers=HEADERS)\n",
    "    soup = BeautifulSoup(response.content, \"html.parser\", from_encoding='utf-8')\n",
    "    return [response.status_code, URL, soup]"
   ]
  },
  {
   "cell_type": "code",
   "execution_count": null,
   "metadata": {},
   "outputs": [],
   "source": [
    "keyword = ''\n",
    "start_url = f\"https://www.coupang.com/np/search?component=&q={keyword}\"\n",
    "root_url = 'https://www.coupang.com/' \n",
    "headers = {\n",
    "    'User-Agent' : 'Mozilla/5.0 (Windows NT 10.0; Win64; x64) AppleWebKit/537.36 (KHTML, like Gecko) Chrome/120.0.0.0 Safari/537.36',\n",
    "}\n",
    "soup_pot = go_to_page(start_url, headers)\n",
    "\n",
    "print(soup_pot[0], soup_pot[1])\n",
    "print(soup_pot[2].h1)\n",
    "soup = soup_pot[2]"
   ]
  },
  {
   "cell_type": "code",
   "execution_count": null,
   "metadata": {},
   "outputs": [],
   "source": [
    "best_product = soup.find_all(class_='search-product-link', limit=3)\n",
    "product_url = []\n",
    "\n",
    "for prod in best_product:\n",
    "    url = prod['href'] \n",
    "    # span_ = book.find_all('span')\n",
    "    # title = span_[1].text\n",
    "    product_url.append(f'https://www.coupang.com/{url}')\n",
    "\n",
    "print(product_url)"
   ]
  },
  {
   "cell_type": "code",
   "execution_count": null,
   "metadata": {},
   "outputs": [],
   "source": [
    "for url in product_url:\n",
    "    itm_ = go_to_page(url, headers)\n",
    "    # content_ = itm_[2].find_all(class_='book_contents_item')\n",
    "    prod_info = itm_[2]\n",
    "    prod_title = prod_info.select_one('.prod-buy-header__title').text\n",
    "    prod_price = prod_info.select_one('.total-price').text\n",
    "\n",
    "    print(prod_title, prod_price)\n",
    "    print('***************************')"
   ]
  }
 ],
 "metadata": {
  "kernelspec": {
   "display_name": "genv",
   "language": "python",
   "name": "python3"
  },
  "language_info": {
   "codemirror_mode": {
    "name": "ipython",
    "version": 3
   },
   "file_extension": ".py",
   "mimetype": "text/x-python",
   "name": "python",
   "nbconvert_exporter": "python",
   "pygments_lexer": "ipython3",
   "version": "3.12.1"
  }
 },
 "nbformat": 4,
 "nbformat_minor": 2
}
